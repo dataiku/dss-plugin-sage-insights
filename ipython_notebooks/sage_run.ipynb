{
  "metadata": {
    "kernelspec": {
      "display_name": "pyenv-streamlit",
      "language": "python",
      "name": "python3"
    },
    "language_info": {
      "name": "python",
      "version": "3.11.10"
    },
    "creator": "smazzei",
    "createdOn": 1750207382382,
    "tags": [],
    "customFields": {},
    "modifiedBy": "smazzei"
  },
  "nbformat": 4,
  "nbformat_minor": 2,
  "cells": [
    {
      "execution_count": 0,
      "cell_type": "code",
      "metadata": {},
      "source": [
        "from sage.src import dss_funcs\n",
        "d \u003d dss_funcs.get_dss_commits()"
      ],
      "outputs": []
    },
    {
      "execution_count": 0,
      "cell_type": "code",
      "metadata": {},
      "source": [
        "from sage.src import main\n",
        "main.main()"
      ],
      "outputs": []
    }
  ]
}