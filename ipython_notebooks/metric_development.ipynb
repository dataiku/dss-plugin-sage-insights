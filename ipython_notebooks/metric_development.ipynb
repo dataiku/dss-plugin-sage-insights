{
  "metadata": {
    "kernelspec": {
      "name": "py-dku-venv-sage",
      "display_name": "Python (env sage)",
      "language": "python"
    },
    "hide_input": false,
    "language_info": {
      "name": "python",
      "version": "3.11.10",
      "mimetype": "text/x-python",
      "codemirror_mode": {
        "name": "ipython",
        "version": 3
      },
      "pygments_lexer": "ipython3",
      "nbconvert_exporter": "python",
      "file_extension": ".py"
    },
    "creator": "smazzei",
    "tags": [],
    "createdOn": 1750254482047,
    "customFields": {},
    "modifiedBy": "smazzei"
  },
  "nbformat": 4,
  "nbformat_minor": 1,
  "cells": [
    {
      "execution_count": 0,
      "cell_type": "code",
      "metadata": {},
      "source": [
        "from sage.src import dss_folder"
      ],
      "outputs": []
    },
    {
      "execution_count": 0,
      "cell_type": "code",
      "metadata": {},
      "source": [
        "df \u003d dss_folder.read_folder_input(\n    \"base_data\",\n    \"instance/_dataiku_users.csv\",\n    \"DF\"\n)"
      ],
      "outputs": []
    }
  ]
}