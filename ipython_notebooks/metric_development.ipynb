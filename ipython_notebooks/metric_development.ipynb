{
  "metadata": {
    "kernelspec": {
      "name": "py-dku-venv-sage",
      "display_name": "Python (env sage)",
      "language": "python"
    },
    "hide_input": false,
    "language_info": {
      "name": "python",
      "version": "3.11.10",
      "mimetype": "text/x-python",
      "codemirror_mode": {
        "name": "ipython",
        "version": 3
      },
      "pygments_lexer": "ipython3",
      "nbconvert_exporter": "python",
      "file_extension": ".py"
    },
    "creator": "smazzei",
    "tags": [],
    "createdOn": 1750254482047,
    "customFields": {},
    "modifiedBy": "smazzei"
  },
  "nbformat": 4,
  "nbformat_minor": 1,
  "cells": [
    {
      "cell_type": "markdown",
      "metadata": {},
      "source": [
        "# Example Output\n",
        "```python\n",
        "meta \u003d {\n",
        "    \"pass\": True,\n",
        "    \"type\": \"metric\",\n",
        "    \"title\": \"Example\",\n",
        "    \"delta\": 2,\n",
        "    \"value\": 10\n",
        "}\n",
        "```"
      ]
    },
    {
      "execution_count": 0,
      "cell_type": "code",
      "metadata": {},
      "source": [
        "# Import the dss_folder\n",
        "from sage.src import dss_folder\n",
        "\n",
        "# get the DF for the metrics\n",
        "df \u003d dss_folder.read_folder_input(path \u003d \"instance/_dataiku_users.csv\")"
      ],
      "outputs": []
    },
    {
      "execution_count": 0,
      "cell_type": "code",
      "metadata": {},
      "source": [
        "# basic User counts\n",
        "total_users \u003d df[\"login\"].nunique()\n",
        "enabled_users \u003d int(df.groupby(\"enabled\")[\"login\"].nunique().loc[True])\n",
        "delta_users \u003d total_users - enabled_users\n",
        "total_users, enabled_users, delta_users"
      ],
      "outputs": []
    },
    {
      "cell_type": "markdown",
      "metadata": {
        "trusted": false
      },
      "source": [
        "# Notes\n",
        "\n",
        "* Multiple values here could be metrics. However, at this time only 1 metric can be reported per metric file\n",
        "* You would need to create 1-3 files for this depending on the number of information you want to report back\n",
        "* Example 1 \n",
        "```python\n",
        "meta \u003d {\n",
        "    \"pass\": True,\n",
        "    \"type\": \"metric\",\n",
        "    \"title\": \"Example\",\n",
        "    \"delta\": delta_users,\n",
        "    \"value\": total_users\n",
        "}\n",
        "```\n",
        "* Example 2\n",
        "```python\n",
        "meta \u003d {\n",
        "    \"pass\": True,\n",
        "    \"type\": \"metric\",\n",
        "    \"title\": \"Example\",\n",
        "    \"delta\": 0,\n",
        "    \"value\": enabled_users\n",
        "}\n",
        "```\n",
        "* Full Example File\n",
        "```python\n",
        "import pandas as pd\n",
        "from sage.src import dss_folder\n",
        "\n",
        "def main(df\u003dNone, df_filter\u003d{}):\n",
        "    df \u003d dss_folder.read_folder_input(path \u003d \"instance/_dataiku_users.csv\")\n",
        "    # basic User counts\n",
        "    total_users \u003d df[\"login\"].nunique()\n",
        "    enabled_users \u003d int(df.groupby(\"enabled\")[\"login\"].nunique().loc[True])\n",
        "    delta_users \u003d total_users - enabled_users\n",
        "    total_users, enabled_users, delta_users\n",
        "\n",
        "    meta \u003d {\n",
        "        \"pass\": True,\n",
        "        \"type\": \"metric\",\n",
        "        \"title\": \"Example\",\n",
        "        \"delta\": delta_users,\n",
        "        \"value\": total_users\n",
        "    }\n",
        "    return [meta, None]\n",
        "```"
      ]
    }
  ]
}