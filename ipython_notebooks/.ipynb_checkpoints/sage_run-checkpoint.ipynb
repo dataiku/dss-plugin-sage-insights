{
  "metadata": {
    "kernelspec": {
      "display_name": "pyenv-streamlit",
      "language": "python",
      "name": "python3"
    },
    "language_info": {
      "name": "python",
      "version": "3.11.10"
    },
    "creator": "smazzei",
    "createdOn": 1750207382382,
    "tags": [],
    "customFields": {},
    "modifiedBy": "smazzei"
  },
  "nbformat": 4,
  "nbformat_minor": 2,
  "cells": [
    {
      "execution_count": 0,
      "cell_type": "code",
      "metadata": {},
      "source": [
        "from sage.src import instance_data_gather\n",
        "from sage.src import project_data_gather"
      ],
      "outputs": []
    },
    {
      "execution_count": 0,
      "cell_type": "code",
      "metadata": {},
      "source": [
        "instance_data_gather.main()"
      ],
      "outputs": []
    },
    {
      "execution_count": 0,
      "cell_type": "code",
      "metadata": {},
      "source": [
        "project_data_gather.main()"
      ],
      "outputs": []
    },
    {
      "execution_count": 0,
      "cell_type": "code",
      "metadata": {},
      "source": [
        "from sage.src import dss_folder\n",
        "import pandas as pd\n",
        "\n",
        "# create a partitioned folder dataframe\n",
        "folder \u003d dss_folder.get_folder(folder_name\u003d\"partitioned_data\")\n",
        "d \u003d folder.list_partitions()\n",
        "folder_df \u003d pd.DataFrame(d, columns\u003d[\"partitions\"])\n",
        "folder_df[[\"category\", \"module\", \"project_key\", \"dt\"]] \u003d folder_df[\"partitions\"].str.split(\"|\", expand\u003dTrue)\n",
        "folder_df.head()"
      ],
      "outputs": []
    },
    {
      "execution_count": 0,
      "cell_type": "code",
      "metadata": {},
      "source": [
        "# Loop over the sets and gather\n",
        "for i,grp in folder_df.groupby(by\u003d[\"category\", \"module\"]):\n",
        "    # get latest dt partition\n",
        "    max_date \u003d grp[\u0027dt\u0027].max()\n",
        "    filtered_df \u003d grp[grp[\u0027dt\u0027] \u003d\u003d max_date]\n",
        "    # loop over and build consolidated df\n",
        "    df \u003d pd.DataFrame()\n",
        "    for partition in filtered_df.partitions.tolist():\n",
        "        path \u003d folder.list_paths_in_partition(partition\u003dpartition)[0]\n",
        "        tdf \u003d dss_folder.read_folder_input(folder_name\u003d\"partitioned_data\", path\u003dpath)\n",
        "        if df.empty:\n",
        "            df \u003d tdf\n",
        "        else:\n",
        "            df \u003d pd.concat([df, tdf], ignore_index\u003dTrue)\n",
        "    # Write consolidated DF to folder\n",
        "    dss_folder.write_folder_output(\n",
        "        folder_name \u003d \"base_data\",\n",
        "        path \u003d f\"/{i[0]}/_{i[1]}.csv\",\n",
        "        data_type \u003d \"DF\",\n",
        "        data \u003d df\n",
        "    )"
      ],
      "outputs": []
    },
    {
      "execution_count": 0,
      "cell_type": "code",
      "metadata": {},
      "source": [
        "max_date, filtered_df"
      ],
      "outputs": []
    },
    {
      "execution_count": 0,
      "cell_type": "code",
      "metadata": {},
      "source": [],
      "outputs": []
    },
    {
      "execution_count": 0,
      "cell_type": "code",
      "metadata": {},
      "source": [],
      "outputs": []
    },
    {
      "execution_count": 0,
      "cell_type": "code",
      "metadata": {},
      "source": [],
      "outputs": []
    },
    {
      "execution_count": 0,
      "cell_type": "code",
      "metadata": {},
      "source": [],
      "outputs": []
    },
    {
      "execution_count": 0,
      "cell_type": "code",
      "metadata": {},
      "source": [
        "from sage.src import main\n",
        "main.main()"
      ],
      "outputs": []
    }
  ]
}