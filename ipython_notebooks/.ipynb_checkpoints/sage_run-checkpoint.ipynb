{
  "metadata": {
    "kernelspec": {
      "display_name": "pyenv-streamlit",
      "language": "python",
      "name": "python3"
    },
    "language_info": {
      "name": "python",
      "version": "3.11.10"
    },
    "creator": "smazzei",
    "createdOn": 1750207382382,
    "tags": [],
    "customFields": {}
  },
  "nbformat": 4,
  "nbformat_minor": 2,
  "cells": [
    {
      "execution_count": 0,
      "cell_type": "code",
      "metadata": {},
      "source": [
        "from sage.src import main"
      ],
      "outputs": []
    }
  ]
}