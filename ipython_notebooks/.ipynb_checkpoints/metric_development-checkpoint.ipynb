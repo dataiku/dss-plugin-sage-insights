{
  "metadata": {
    "kernelspec": {
      "name": "py-dku-venv-sage",
      "display_name": "Python (env sage)",
      "language": "python"
    },
    "hide_input": false,
    "language_info": {
      "name": "python",
      "version": "3.11.10",
      "mimetype": "text/x-python",
      "codemirror_mode": {
        "name": "ipython",
        "version": 3
      },
      "pygments_lexer": "ipython3",
      "nbconvert_exporter": "python",
      "file_extension": ".py"
    },
    "creator": "smazzei",
    "tags": [],
    "createdOn": 1750254482047,
    "customFields": {},
    "modifiedBy": "smazzei"
  },
  "nbformat": 4,
  "nbformat_minor": 1,
  "cells": [
    {
      "cell_type": "markdown",
      "metadata": {},
      "source": [
        "# Example Output\n```python\nmeta \u003d {\n    \"pass\": True,\n    \"type\": \"metric\",\n    \"title\": \"Example\",\n    \"delta\": 2,\n    \"value\": 10\n}\n```"
      ]
    },
    {
      "execution_count": 0,
      "cell_type": "code",
      "metadata": {},
      "source": [
        "# Import the dss_folder\nfrom sage.src import dss_folder\n\n# get the DF for the metrics\ndf \u003d dss_folder.read_folder_input(\n    \"base_data\",\n    \"instance/_dataiku_users.csv\", # change this line for the data path\n    \"DF\"\n)"
      ],
      "outputs": []
    },
    {
      "execution_count": 0,
      "cell_type": "code",
      "metadata": {},
      "source": [
        "# basic User counts\ntotal_users \u003d df[\"login\"].nunique()\nenabled_users \u003d int(df.groupby(\"enabled\")[\"login\"].nunique().loc[True])\ndelta_users \u003d total_users - enabled_users\ntotal_users, enabled_users, delta_users"
      ],
      "outputs": []
    },
    {
      "execution_count": 0,
      "cell_type": "code",
      "metadata": {},
      "source": [
        ""
      ],
      "outputs": []
    }
  ]
}