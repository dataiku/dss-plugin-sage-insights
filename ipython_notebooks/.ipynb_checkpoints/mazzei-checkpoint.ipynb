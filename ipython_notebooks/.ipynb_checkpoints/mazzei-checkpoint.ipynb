{
  "metadata": {
    "kernelspec": {
      "display_name": "pyenv-streamlit",
      "language": "python",
      "name": "python3"
    },
    "language_info": {
      "codemirror_mode": {
        "name": "ipython",
        "version": 3
      },
      "file_extension": ".py",
      "mimetype": "text/x-python",
      "name": "python",
      "nbconvert_exporter": "python",
      "pygments_lexer": "ipython3",
      "version": "3.11.10"
    },
    "creator": "smazzei",
    "createdOn": 1750267612542,
    "tags": [],
    "customFields": {}
  },
  "nbformat": 4,
  "nbformat_minor": 2,
  "cells": [
    {
      "execution_count": 0,
      "cell_type": "code",
      "metadata": {},
      "source": [],
      "outputs": []
    }
  ]
}